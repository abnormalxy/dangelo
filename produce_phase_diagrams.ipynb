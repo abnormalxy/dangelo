{
  "cells": [
    {
      "cell_type": "markdown",
      "metadata": {
        "id": "view-in-github",
        "colab_type": "text"
      },
      "source": [
        "<a href=\"https://colab.research.google.com/github/abnormalxy/dangelo/blob/main/produce_phase_diagrams.ipynb\" target=\"_parent\"><img src=\"https://colab.research.google.com/assets/colab-badge.svg\" alt=\"Open In Colab\"/></a>"
      ]
    },
    {
      "cell_type": "code",
      "execution_count": null,
      "metadata": {
        "id": "RR7SXsXQcSjH"
      },
      "outputs": [],
      "source": [
        "from sklearn.neural_network import MLPRegressor\n",
        "import pickle\n",
        "import requests\n",
        "import numpy as np"
      ]
    },
    {
      "cell_type": "code",
      "source": [
        "euler_url = \"https://github.com/jamunozlab/dangelo/raw/main/models/euler_number_mlp.pickle\"\n",
        "euler = requests.get(euler_url)"
      ],
      "metadata": {
        "id": "_yIM2iZGmZcG"
      },
      "execution_count": null,
      "outputs": []
    },
    {
      "cell_type": "code",
      "source": [
        "curvature_url = \"https://github.com/jamunozlab/dangelo/raw/main/models/mean_curvature_mlp.pickle\"\n",
        "curvature = requests.get(curvature_url)"
      ],
      "metadata": {
        "id": "yxcycAPfL2XQ"
      },
      "execution_count": null,
      "outputs": []
    },
    {
      "cell_type": "code",
      "execution_count": null,
      "metadata": {
        "id": "_klQ1rksJ64H"
      },
      "outputs": [],
      "source": [
        "import matplotlib as mpl\n",
        "import matplotlib.pyplot as plt\n",
        "from matplotlib import cm\n",
        "\n",
        "mpl.rcParams.update({'font.size': 20})\n",
        "\n",
        "class MplColorHelper:\n",
        "\n",
        "  def __init__(self, cmap_name, start_val, stop_val):\n",
        "    self.cmap_name = cmap_name\n",
        "    self.cmap = plt.get_cmap(cmap_name)\n",
        "    self.norm = mpl.colors.Normalize(vmin=start_val, vmax=stop_val)\n",
        "    self.scalarMap = cm.ScalarMappable(norm=self.norm, cmap=self.cmap)\n",
        "\n",
        "  def get_rgb(self, val):\n",
        "    return self.scalarMap.to_rgba(val)"
      ]
    },
    {
      "cell_type": "code",
      "source": [
        "e_clf = pickle.loads(euler.content)\n",
        "c_clf = pickle.loads(curvature.content)"
      ],
      "metadata": {
        "id": "k4TpS3MEN6rL"
      },
      "execution_count": null,
      "outputs": []
    },
    {
      "cell_type": "code",
      "execution_count": null,
      "metadata": {
        "id": "TkGgJyJRcSjk"
      },
      "outputs": [],
      "source": [
        "def generate_phase_diagram_data(rho, c_model, e_model):\n",
        "    data = []\n",
        "    for p in range(10, 51, 2):\n",
        "        prop = p/100.0\n",
        "        for tt in range(2, 44):\n",
        "            t = tt/10.0\n",
        "            c = c_model.predict([[t, rho, prop]])[0]\n",
        "            e = e_model.predict([[t, rho, prop]])[0]\n",
        "            phase = None\n",
        "            if 0 < c and 0 < e:\n",
        "                #phase = 'Gnocchi'\n",
        "                phase = 'G'\n",
        "            elif 0 > c and 0 < e:\n",
        "                #phase = 'Anti-Gnocchi'\n",
        "                phase = 'H'\n",
        "            elif 0 > c and 0 > e:\n",
        "                #phase = 'Anti-Jungle-gym'\n",
        "                phase = 'K'\n",
        "            elif 0 < c and 0 > e:\n",
        "                #phase = 'Jungle-gym'\n",
        "                phase = 'J'\n",
        "            else:\n",
        "                print('Weird')\n",
        "\n",
        "            data.append([phase, prop, t])\n",
        "    return data"
      ]
    },
    {
      "cell_type": "code",
      "source": [
        "e_color_map = MplColorHelper('seismic', -2000, 2000)\n",
        "c_color_map = MplColorHelper('Greens', -2000, 2000)"
      ],
      "metadata": {
        "id": "he1VsiGjPYuk"
      },
      "execution_count": null,
      "outputs": []
    },
    {
      "cell_type": "code",
      "execution_count": null,
      "metadata": {
        "id": "G6h6FbFq9XuY"
      },
      "outputs": [],
      "source": [
        "def predict_c_e(rho, c_model, e_model):\n",
        "    proportion_range = range(0, 505)\n",
        "    temperature_range = range(0, 101)\n",
        "    x = []\n",
        "    y = []\n",
        "    color = np.zeros([len(proportion_range),len(temperature_range)])\n",
        "    color_list = []\n",
        "    i = 0\n",
        "    border_x = []\n",
        "    border_y = []\n",
        "    current = None\n",
        "    for p in proportion_range:\n",
        "        prop = p/1000.0\n",
        "        j = 0\n",
        "        previous = None\n",
        "        for tt in temperature_range:\n",
        "            t = tt/20.0\n",
        "            c = c_model.predict([[t, rho, prop]])[0]\n",
        "            e = e_model.predict([[t, rho, prop]])[0]\n",
        "\n",
        "\n",
        "            if 0 < c and 0 < e:\n",
        "                #phase = 'Gnocchi'\n",
        "                current = 'G'\n",
        "            elif 0 > c and 0 < e:\n",
        "                #phase = 'Anti-Gnocchi'\n",
        "                current = 'AG'\n",
        "            elif 0 > c and 0 > e:\n",
        "                #phase = 'Anti-Jungle-gym'\n",
        "                current = 'AJ'\n",
        "            elif 0 < c and 0 > e:\n",
        "                #phase = 'Jungle-gym'\n",
        "                current = 'J'\n",
        "            else:\n",
        "                print('Weird')\n",
        "\n",
        "            if current != previous and previous is not None:\n",
        "              #print(previous, current, prop, t)\n",
        "              border_x.append(prop)\n",
        "              border_y.append(t)\n",
        "            previous = current\n",
        "\n",
        "            r_e, g_e, b_e, a_e = e_color_map.get_rgb(e)\n",
        "            r_c, g_c, b_c, a_c = c_color_map.get_rgb(c)\n",
        "\n",
        "            x.append(prop)\n",
        "            y.append(t)\n",
        "\n",
        "            color_list.append([(r_e + r_c)/2, (g_e + g_c)/2, (b_e + b_c)/2, 1.0])\n",
        "\n",
        "\n",
        "    current = None\n",
        "    for tt in temperature_range:\n",
        "        t = tt/20.0\n",
        "        previous = None\n",
        "        for p in proportion_range:\n",
        "            prop = p/1000.0\n",
        "            c = c_model.predict([[t, rho, prop]])[0]\n",
        "            e = e_model.predict([[t, rho, prop]])[0]\n",
        "\n",
        "\n",
        "            if 0 < c and 0 < e:\n",
        "                #phase = 'Gnocchi'\n",
        "                current = 'G'\n",
        "            elif 0 > c and 0 < e:\n",
        "                #phase = 'Anti-Gnocchi'\n",
        "                current = 'AG'\n",
        "            elif 0 > c and 0 > e:\n",
        "                #phase = 'Anti-Jungle-gym'\n",
        "                current = 'AJ'\n",
        "            elif 0 < c and 0 > e:\n",
        "                #phase = 'Jungle-gym'\n",
        "                current = 'J'\n",
        "            else:\n",
        "                print('Weird')\n",
        "\n",
        "            if current != previous and previous is not None:\n",
        "              #print(previous, current, prop, t)\n",
        "              border_x.append(prop)\n",
        "              border_y.append(t)\n",
        "            previous = current\n",
        "\n",
        "            r_e, g_e, b_e, a_e = e_color_map.get_rgb(e)\n",
        "            r_c, g_c, b_c, a_c = c_color_map.get_rgb(c)\n",
        "\n",
        "            x.append(prop)\n",
        "            y.append(t)\n",
        "\n",
        "            color_list.append([(r_e + r_c)/2, (g_e + g_c)/2, (b_e + b_c)/2, 1.0])\n",
        "\n",
        "    return x, y, color_list, border_x, border_y"
      ]
    },
    {
      "cell_type": "code",
      "execution_count": null,
      "metadata": {
        "id": "2EpgIqg-GWH3"
      },
      "outputs": [],
      "source": [
        "def generate_plot(density):\n",
        "\n",
        "  x, y, color_list, border_x, border_y = predict_c_e(density, c_clf, e_clf)\n",
        "  fig, ax = plt.subplots(1,1, figsize=(6,6))\n",
        "\n",
        "  scat = ax.scatter(x,y,s=5, c=color_list, marker='s')\n",
        "\n",
        "  ax.scatter(border_x,border_y, s=6, c='black', marker='s')\n",
        "\n",
        "  ax.set_aspect(0.15)\n",
        "  ax.set_title('Density = '+str(density)+\" fm$^{-3}$\", fontweight='bold', fontsize=16)\n",
        "  ax.set_xlabel('Proton proportion')\n",
        "  ax.set_ylabel('Temperature (MeV)')\n",
        "  ax.set_ylim([0,5])\n",
        "  ax.set_xlim([0,0.5])\n",
        "\n",
        "  plt.xticks([0.0, 0.1, 0.2, 0.3, 0.4, 0.5])\n",
        "  plt.yticks([0, 1, 2, 3, 4, 5])\n",
        "\n",
        "  ax.tick_params(axis='both', which='major', labelsize=14)\n",
        "\n",
        "  plt.show()"
      ]
    },
    {
      "cell_type": "code",
      "execution_count": null,
      "metadata": {
        "id": "MzYETDHE-Qgv"
      },
      "outputs": [],
      "source": [
        "def generate_other_plot(density):\n",
        "    data = generate_phase_diagram_data(density, c_clf, e_clf)\n",
        "    plt.figure(figsize=(4,6))\n",
        "    print(density)\n",
        "    for item in data:\n",
        "      plt.scatter(item[1], item[2], s=20, c='black', marker=r\"$ {} $\".format(item[0]))\n",
        "    plt.show()"
      ]
    },
    {
      "cell_type": "code",
      "execution_count": null,
      "metadata": {
        "id": "5pwjY2oyf6cu"
      },
      "outputs": [],
      "source": [
        "generate_plot(density=0.015)\n",
        "generate_plot(density=0.02)\n",
        "generate_plot(density=0.025)\n",
        "generate_plot(density=0.03)\n",
        "generate_plot(density=0.035)\n",
        "generate_plot(density=0.04)\n",
        "generate_plot(density=0.045)\n",
        "generate_plot(density=0.05)\n",
        "generate_plot(density=0.055)\n",
        "generate_plot(density=0.06)\n",
        "generate_plot(density=0.065)\n",
        "generate_plot(density=0.07)\n",
        "generate_plot(density=0.075)\n",
        "generate_plot(density=0.08)\n",
        "generate_plot(density=0.085)\n",
        "generate_plot(density=0.09)\n",
        "generate_plot(density=0.095)"
      ]
    },
    {
      "cell_type": "code",
      "execution_count": null,
      "metadata": {
        "id": "8pL9-Ac8ps5F"
      },
      "outputs": [],
      "source": [
        "generate_other_plot(density=0.015)\n",
        "generate_other_plot(density=0.02)\n",
        "generate_other_plot(density=0.025)\n",
        "generate_other_plot(density=0.03)\n",
        "generate_other_plot(density=0.035)\n",
        "generate_other_plot(density=0.04)\n",
        "generate_other_plot(density=0.045)\n",
        "generate_other_plot(density=0.05)\n",
        "generate_other_plot(density=0.055)\n",
        "generate_other_plot(density=0.06)\n",
        "generate_other_plot(density=0.065)\n",
        "generate_other_plot(density=0.07)\n",
        "generate_other_plot(density=0.075)\n",
        "generate_other_plot(density=0.08)\n",
        "generate_other_plot(density=0.085)\n",
        "generate_other_plot(density=0.09)\n",
        "generate_other_plot(density=0.095)"
      ]
    }
  ],
  "metadata": {
    "colab": {
      "provenance": [],
      "include_colab_link": true
    },
    "kernelspec": {
      "display_name": "Python 3",
      "language": "python",
      "name": "python3"
    },
    "language_info": {
      "codemirror_mode": {
        "name": "ipython",
        "version": 3
      },
      "file_extension": ".py",
      "mimetype": "text/x-python",
      "name": "python",
      "nbconvert_exporter": "python",
      "pygments_lexer": "ipython3",
      "version": "3.6.5"
    }
  },
  "nbformat": 4,
  "nbformat_minor": 0
}